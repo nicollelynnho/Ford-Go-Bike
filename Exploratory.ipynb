{
 "cells": [
  {
   "cell_type": "markdown",
   "metadata": {},
   "source": [
    "# Exploratory Analysis - Ford Bike System"
   ]
  },
  {
   "cell_type": "code",
   "execution_count": 1,
   "metadata": {},
   "outputs": [],
   "source": [
    "import pandas as pd\n",
    "import matplotlib.pyplot as plt\n",
    "from mpl_toolkits.basemap import Basemap\n",
    "import numpy as np\n",
    "import statsmodels.api as sm\n",
    "import seaborn as sns"
   ]
  },
  {
   "cell_type": "code",
   "execution_count": 2,
   "metadata": {},
   "outputs": [],
   "source": [
    "#read bike data\n",
    "df = pd.read_csv('../201904-fordgobike-tripdata.csv')"
   ]
  },
  {
   "cell_type": "code",
   "execution_count": 3,
   "metadata": {},
   "outputs": [
    {
     "data": {
      "text/html": [
       "<div>\n",
       "<style scoped>\n",
       "    .dataframe tbody tr th:only-of-type {\n",
       "        vertical-align: middle;\n",
       "    }\n",
       "\n",
       "    .dataframe tbody tr th {\n",
       "        vertical-align: top;\n",
       "    }\n",
       "\n",
       "    .dataframe thead th {\n",
       "        text-align: right;\n",
       "    }\n",
       "</style>\n",
       "<table border=\"1\" class=\"dataframe\">\n",
       "  <thead>\n",
       "    <tr style=\"text-align: right;\">\n",
       "      <th></th>\n",
       "      <th>duration_sec</th>\n",
       "      <th>start_time</th>\n",
       "      <th>end_time</th>\n",
       "      <th>start_station_id</th>\n",
       "      <th>start_station_name</th>\n",
       "      <th>start_station_latitude</th>\n",
       "      <th>start_station_longitude</th>\n",
       "      <th>end_station_id</th>\n",
       "      <th>end_station_name</th>\n",
       "      <th>end_station_latitude</th>\n",
       "      <th>end_station_longitude</th>\n",
       "      <th>bike_id</th>\n",
       "      <th>user_type</th>\n",
       "      <th>member_birth_year</th>\n",
       "      <th>member_gender</th>\n",
       "      <th>bike_share_for_all_trip</th>\n",
       "    </tr>\n",
       "  </thead>\n",
       "  <tbody>\n",
       "    <tr>\n",
       "      <th>0</th>\n",
       "      <td>50305</td>\n",
       "      <td>2019-04-30 22:33:55.1550</td>\n",
       "      <td>2019-05-01 12:32:20.4540</td>\n",
       "      <td>368.0</td>\n",
       "      <td>Myrtle St at Polk St</td>\n",
       "      <td>37.785434</td>\n",
       "      <td>-122.419622</td>\n",
       "      <td>324.0</td>\n",
       "      <td>Union Square (Powell St at Post St)</td>\n",
       "      <td>37.788300</td>\n",
       "      <td>-122.408531</td>\n",
       "      <td>2749</td>\n",
       "      <td>Subscriber</td>\n",
       "      <td>1989.0</td>\n",
       "      <td>Female</td>\n",
       "      <td>No</td>\n",
       "    </tr>\n",
       "    <tr>\n",
       "      <th>1</th>\n",
       "      <td>53725</td>\n",
       "      <td>2019-04-30 20:43:41.6320</td>\n",
       "      <td>2019-05-01 11:39:06.9170</td>\n",
       "      <td>246.0</td>\n",
       "      <td>Berkeley Civic Center</td>\n",
       "      <td>37.869060</td>\n",
       "      <td>-122.270556</td>\n",
       "      <td>241.0</td>\n",
       "      <td>Ashby BART Station</td>\n",
       "      <td>37.852477</td>\n",
       "      <td>-122.270213</td>\n",
       "      <td>2608</td>\n",
       "      <td>Customer</td>\n",
       "      <td>NaN</td>\n",
       "      <td>NaN</td>\n",
       "      <td>No</td>\n",
       "    </tr>\n",
       "    <tr>\n",
       "      <th>2</th>\n",
       "      <td>78072</td>\n",
       "      <td>2019-04-30 10:32:46.4890</td>\n",
       "      <td>2019-05-01 08:13:58.9750</td>\n",
       "      <td>64.0</td>\n",
       "      <td>5th St at Brannan St</td>\n",
       "      <td>37.776754</td>\n",
       "      <td>-122.399018</td>\n",
       "      <td>64.0</td>\n",
       "      <td>5th St at Brannan St</td>\n",
       "      <td>37.776754</td>\n",
       "      <td>-122.399018</td>\n",
       "      <td>258</td>\n",
       "      <td>Subscriber</td>\n",
       "      <td>1993.0</td>\n",
       "      <td>Male</td>\n",
       "      <td>No</td>\n",
       "    </tr>\n",
       "    <tr>\n",
       "      <th>3</th>\n",
       "      <td>78969</td>\n",
       "      <td>2019-04-30 10:00:51.5500</td>\n",
       "      <td>2019-05-01 07:57:01.2620</td>\n",
       "      <td>67.0</td>\n",
       "      <td>San Francisco Caltrain Station 2  (Townsend St...</td>\n",
       "      <td>37.776639</td>\n",
       "      <td>-122.395526</td>\n",
       "      <td>89.0</td>\n",
       "      <td>Division St at Potrero Ave</td>\n",
       "      <td>37.769218</td>\n",
       "      <td>-122.407646</td>\n",
       "      <td>1974</td>\n",
       "      <td>Subscriber</td>\n",
       "      <td>1972.0</td>\n",
       "      <td>Male</td>\n",
       "      <td>No</td>\n",
       "    </tr>\n",
       "    <tr>\n",
       "      <th>4</th>\n",
       "      <td>1128</td>\n",
       "      <td>2019-04-30 23:59:04.7390</td>\n",
       "      <td>2019-05-01 00:17:53.0910</td>\n",
       "      <td>124.0</td>\n",
       "      <td>19th St at Florida St</td>\n",
       "      <td>37.760447</td>\n",
       "      <td>-122.410807</td>\n",
       "      <td>5.0</td>\n",
       "      <td>Powell St BART Station (Market St at 5th St)</td>\n",
       "      <td>37.783899</td>\n",
       "      <td>-122.408445</td>\n",
       "      <td>877</td>\n",
       "      <td>Subscriber</td>\n",
       "      <td>1973.0</td>\n",
       "      <td>Male</td>\n",
       "      <td>No</td>\n",
       "    </tr>\n",
       "  </tbody>\n",
       "</table>\n",
       "</div>"
      ],
      "text/plain": [
       "   duration_sec                start_time                  end_time  \\\n",
       "0         50305  2019-04-30 22:33:55.1550  2019-05-01 12:32:20.4540   \n",
       "1         53725  2019-04-30 20:43:41.6320  2019-05-01 11:39:06.9170   \n",
       "2         78072  2019-04-30 10:32:46.4890  2019-05-01 08:13:58.9750   \n",
       "3         78969  2019-04-30 10:00:51.5500  2019-05-01 07:57:01.2620   \n",
       "4          1128  2019-04-30 23:59:04.7390  2019-05-01 00:17:53.0910   \n",
       "\n",
       "   start_station_id                                 start_station_name  \\\n",
       "0             368.0                               Myrtle St at Polk St   \n",
       "1             246.0                              Berkeley Civic Center   \n",
       "2              64.0                               5th St at Brannan St   \n",
       "3              67.0  San Francisco Caltrain Station 2  (Townsend St...   \n",
       "4             124.0                              19th St at Florida St   \n",
       "\n",
       "   start_station_latitude  start_station_longitude  end_station_id  \\\n",
       "0               37.785434              -122.419622           324.0   \n",
       "1               37.869060              -122.270556           241.0   \n",
       "2               37.776754              -122.399018            64.0   \n",
       "3               37.776639              -122.395526            89.0   \n",
       "4               37.760447              -122.410807             5.0   \n",
       "\n",
       "                               end_station_name  end_station_latitude  \\\n",
       "0           Union Square (Powell St at Post St)             37.788300   \n",
       "1                            Ashby BART Station             37.852477   \n",
       "2                          5th St at Brannan St             37.776754   \n",
       "3                    Division St at Potrero Ave             37.769218   \n",
       "4  Powell St BART Station (Market St at 5th St)             37.783899   \n",
       "\n",
       "   end_station_longitude  bike_id   user_type  member_birth_year  \\\n",
       "0            -122.408531     2749  Subscriber             1989.0   \n",
       "1            -122.270213     2608    Customer                NaN   \n",
       "2            -122.399018      258  Subscriber             1993.0   \n",
       "3            -122.407646     1974  Subscriber             1972.0   \n",
       "4            -122.408445      877  Subscriber             1973.0   \n",
       "\n",
       "  member_gender bike_share_for_all_trip  \n",
       "0        Female                      No  \n",
       "1           NaN                      No  \n",
       "2          Male                      No  \n",
       "3          Male                      No  \n",
       "4          Male                      No  "
      ]
     },
     "execution_count": 3,
     "metadata": {},
     "output_type": "execute_result"
    }
   ],
   "source": [
    "#view data\n",
    "df.head()"
   ]
  },
  {
   "cell_type": "code",
   "execution_count": 4,
   "metadata": {},
   "outputs": [
    {
     "data": {
      "text/plain": [
       "(239111, 16)"
      ]
     },
     "execution_count": 4,
     "metadata": {},
     "output_type": "execute_result"
    }
   ],
   "source": [
    "#data size\n",
    "df.shape"
   ]
  },
  {
   "cell_type": "code",
   "execution_count": 5,
   "metadata": {},
   "outputs": [
    {
     "data": {
      "text/plain": [
       "Index(['duration_sec', 'start_time', 'end_time', 'start_station_id',\n",
       "       'start_station_name', 'start_station_latitude',\n",
       "       'start_station_longitude', 'end_station_id', 'end_station_name',\n",
       "       'end_station_latitude', 'end_station_longitude', 'bike_id', 'user_type',\n",
       "       'member_birth_year', 'member_gender', 'bike_share_for_all_trip'],\n",
       "      dtype='object')"
      ]
     },
     "execution_count": 5,
     "metadata": {},
     "output_type": "execute_result"
    }
   ],
   "source": [
    "df.columns"
   ]
  },
  {
   "cell_type": "code",
   "execution_count": 6,
   "metadata": {},
   "outputs": [
    {
     "data": {
      "text/plain": [
       "duration_sec                 int64\n",
       "start_time                  object\n",
       "end_time                    object\n",
       "start_station_id           float64\n",
       "start_station_name          object\n",
       "start_station_latitude     float64\n",
       "start_station_longitude    float64\n",
       "end_station_id             float64\n",
       "end_station_name            object\n",
       "end_station_latitude       float64\n",
       "end_station_longitude      float64\n",
       "bike_id                      int64\n",
       "user_type                   object\n",
       "member_birth_year          float64\n",
       "member_gender               object\n",
       "bike_share_for_all_trip     object\n",
       "dtype: object"
      ]
     },
     "execution_count": 6,
     "metadata": {},
     "output_type": "execute_result"
    }
   ],
   "source": [
    "#data types\n",
    "df.dtypes"
   ]
  },
  {
   "cell_type": "markdown",
   "metadata": {},
   "source": [
    "# Exploratory Data Analysis"
   ]
  },
  {
   "cell_type": "markdown",
   "metadata": {},
   "source": [
    "Where are the bike stations located?"
   ]
  },
  {
   "cell_type": "code",
   "execution_count": 7,
   "metadata": {},
   "outputs": [
    {
     "data": {
      "text/html": [
       "<div>\n",
       "<style scoped>\n",
       "    .dataframe tbody tr th:only-of-type {\n",
       "        vertical-align: middle;\n",
       "    }\n",
       "\n",
       "    .dataframe tbody tr th {\n",
       "        vertical-align: top;\n",
       "    }\n",
       "\n",
       "    .dataframe thead th {\n",
       "        text-align: right;\n",
       "    }\n",
       "</style>\n",
       "<table border=\"1\" class=\"dataframe\">\n",
       "  <thead>\n",
       "    <tr style=\"text-align: right;\">\n",
       "      <th></th>\n",
       "      <th>duration_sec</th>\n",
       "      <th>start_time</th>\n",
       "      <th>end_time</th>\n",
       "      <th>start_station_name</th>\n",
       "      <th>start_station_latitude</th>\n",
       "      <th>start_station_longitude</th>\n",
       "      <th>end_station_id</th>\n",
       "      <th>end_station_name</th>\n",
       "      <th>end_station_latitude</th>\n",
       "      <th>end_station_longitude</th>\n",
       "      <th>bike_id</th>\n",
       "      <th>user_type</th>\n",
       "      <th>member_birth_year</th>\n",
       "      <th>member_gender</th>\n",
       "      <th>bike_share_for_all_trip</th>\n",
       "    </tr>\n",
       "    <tr>\n",
       "      <th>start_station_id</th>\n",
       "      <th></th>\n",
       "      <th></th>\n",
       "      <th></th>\n",
       "      <th></th>\n",
       "      <th></th>\n",
       "      <th></th>\n",
       "      <th></th>\n",
       "      <th></th>\n",
       "      <th></th>\n",
       "      <th></th>\n",
       "      <th></th>\n",
       "      <th></th>\n",
       "      <th></th>\n",
       "      <th></th>\n",
       "      <th></th>\n",
       "    </tr>\n",
       "  </thead>\n",
       "  <tbody>\n",
       "    <tr>\n",
       "      <th>3.0</th>\n",
       "      <td>3422</td>\n",
       "      <td>3422</td>\n",
       "      <td>3422</td>\n",
       "      <td>3422</td>\n",
       "      <td>3422</td>\n",
       "      <td>3422</td>\n",
       "      <td>3422</td>\n",
       "      <td>3422</td>\n",
       "      <td>3422</td>\n",
       "      <td>3422</td>\n",
       "      <td>3422</td>\n",
       "      <td>3422</td>\n",
       "      <td>3233</td>\n",
       "      <td>3233</td>\n",
       "      <td>3422</td>\n",
       "    </tr>\n",
       "    <tr>\n",
       "      <th>4.0</th>\n",
       "      <td>830</td>\n",
       "      <td>830</td>\n",
       "      <td>830</td>\n",
       "      <td>830</td>\n",
       "      <td>830</td>\n",
       "      <td>830</td>\n",
       "      <td>830</td>\n",
       "      <td>830</td>\n",
       "      <td>830</td>\n",
       "      <td>830</td>\n",
       "      <td>830</td>\n",
       "      <td>830</td>\n",
       "      <td>768</td>\n",
       "      <td>768</td>\n",
       "      <td>830</td>\n",
       "    </tr>\n",
       "    <tr>\n",
       "      <th>5.0</th>\n",
       "      <td>3390</td>\n",
       "      <td>3390</td>\n",
       "      <td>3390</td>\n",
       "      <td>3390</td>\n",
       "      <td>3390</td>\n",
       "      <td>3390</td>\n",
       "      <td>3390</td>\n",
       "      <td>3390</td>\n",
       "      <td>3390</td>\n",
       "      <td>3390</td>\n",
       "      <td>3390</td>\n",
       "      <td>3390</td>\n",
       "      <td>3179</td>\n",
       "      <td>3179</td>\n",
       "      <td>3390</td>\n",
       "    </tr>\n",
       "    <tr>\n",
       "      <th>6.0</th>\n",
       "      <td>2941</td>\n",
       "      <td>2941</td>\n",
       "      <td>2941</td>\n",
       "      <td>2941</td>\n",
       "      <td>2941</td>\n",
       "      <td>2941</td>\n",
       "      <td>2941</td>\n",
       "      <td>2941</td>\n",
       "      <td>2941</td>\n",
       "      <td>2941</td>\n",
       "      <td>2941</td>\n",
       "      <td>2941</td>\n",
       "      <td>2742</td>\n",
       "      <td>2742</td>\n",
       "      <td>2941</td>\n",
       "    </tr>\n",
       "    <tr>\n",
       "      <th>7.0</th>\n",
       "      <td>1045</td>\n",
       "      <td>1045</td>\n",
       "      <td>1045</td>\n",
       "      <td>1045</td>\n",
       "      <td>1045</td>\n",
       "      <td>1045</td>\n",
       "      <td>1045</td>\n",
       "      <td>1045</td>\n",
       "      <td>1045</td>\n",
       "      <td>1045</td>\n",
       "      <td>1045</td>\n",
       "      <td>1045</td>\n",
       "      <td>1007</td>\n",
       "      <td>1007</td>\n",
       "      <td>1045</td>\n",
       "    </tr>\n",
       "  </tbody>\n",
       "</table>\n",
       "</div>"
      ],
      "text/plain": [
       "                  duration_sec  start_time  end_time  start_station_name  \\\n",
       "start_station_id                                                           \n",
       "3.0                       3422        3422      3422                3422   \n",
       "4.0                        830         830       830                 830   \n",
       "5.0                       3390        3390      3390                3390   \n",
       "6.0                       2941        2941      2941                2941   \n",
       "7.0                       1045        1045      1045                1045   \n",
       "\n",
       "                  start_station_latitude  start_station_longitude  \\\n",
       "start_station_id                                                    \n",
       "3.0                                 3422                     3422   \n",
       "4.0                                  830                      830   \n",
       "5.0                                 3390                     3390   \n",
       "6.0                                 2941                     2941   \n",
       "7.0                                 1045                     1045   \n",
       "\n",
       "                  end_station_id  end_station_name  end_station_latitude  \\\n",
       "start_station_id                                                           \n",
       "3.0                         3422              3422                  3422   \n",
       "4.0                          830               830                   830   \n",
       "5.0                         3390              3390                  3390   \n",
       "6.0                         2941              2941                  2941   \n",
       "7.0                         1045              1045                  1045   \n",
       "\n",
       "                  end_station_longitude  bike_id  user_type  \\\n",
       "start_station_id                                              \n",
       "3.0                                3422     3422       3422   \n",
       "4.0                                 830      830        830   \n",
       "5.0                                3390     3390       3390   \n",
       "6.0                                2941     2941       2941   \n",
       "7.0                                1045     1045       1045   \n",
       "\n",
       "                  member_birth_year  member_gender  bike_share_for_all_trip  \n",
       "start_station_id                                                             \n",
       "3.0                            3233           3233                     3422  \n",
       "4.0                             768            768                      830  \n",
       "5.0                            3179           3179                     3390  \n",
       "6.0                            2742           2742                     2941  \n",
       "7.0                            1007           1007                     1045  "
      ]
     },
     "execution_count": 7,
     "metadata": {},
     "output_type": "execute_result"
    }
   ],
   "source": [
    "#view start station groups\n",
    "df.groupby(['start_station_id']).count().head()"
   ]
  },
  {
   "cell_type": "code",
   "execution_count": 8,
   "metadata": {},
   "outputs": [],
   "source": [
    "#find lat / long extremities given a dataframe\n",
    "def geoBound(df,lat_name,lon_name):\n",
    "    lonmax = df[lon_name].max()\n",
    "    lonmin = df[lon_name].min()\n",
    "    latmax = df[lat_name].max()\n",
    "    latmin = df[lat_name].min()\n",
    "    return lonmax,lonmin,latmax,latmin"
   ]
  },
  {
   "cell_type": "code",
   "execution_count": 9,
   "metadata": {},
   "outputs": [
    {
     "data": {
      "text/html": [
       "<div>\n",
       "<style scoped>\n",
       "    .dataframe tbody tr th:only-of-type {\n",
       "        vertical-align: middle;\n",
       "    }\n",
       "\n",
       "    .dataframe tbody tr th {\n",
       "        vertical-align: top;\n",
       "    }\n",
       "\n",
       "    .dataframe thead th {\n",
       "        text-align: right;\n",
       "    }\n",
       "</style>\n",
       "<table border=\"1\" class=\"dataframe\">\n",
       "  <thead>\n",
       "    <tr style=\"text-align: right;\">\n",
       "      <th></th>\n",
       "      <th>start_station_latitude</th>\n",
       "      <th>start_station_longitude</th>\n",
       "    </tr>\n",
       "  </thead>\n",
       "  <tbody>\n",
       "    <tr>\n",
       "      <th>40680</th>\n",
       "      <td>0.000000</td>\n",
       "      <td>0.000000</td>\n",
       "    </tr>\n",
       "    <tr>\n",
       "      <th>185448</th>\n",
       "      <td>37.315158</td>\n",
       "      <td>-121.897833</td>\n",
       "    </tr>\n",
       "    <tr>\n",
       "      <th>34563</th>\n",
       "      <td>37.315158</td>\n",
       "      <td>-121.897833</td>\n",
       "    </tr>\n",
       "    <tr>\n",
       "      <th>37213</th>\n",
       "      <td>37.315158</td>\n",
       "      <td>-121.897833</td>\n",
       "    </tr>\n",
       "    <tr>\n",
       "      <th>107025</th>\n",
       "      <td>37.315158</td>\n",
       "      <td>-121.897833</td>\n",
       "    </tr>\n",
       "  </tbody>\n",
       "</table>\n",
       "</div>"
      ],
      "text/plain": [
       "        start_station_latitude  start_station_longitude\n",
       "40680                 0.000000                 0.000000\n",
       "185448               37.315158              -121.897833\n",
       "34563                37.315158              -121.897833\n",
       "37213                37.315158              -121.897833\n",
       "107025               37.315158              -121.897833"
      ]
     },
     "execution_count": 9,
     "metadata": {},
     "output_type": "execute_result"
    }
   ],
   "source": [
    "#look for anomalies\n",
    "df.sort_values(by=['start_station_latitude'])[['start_station_latitude','start_station_longitude']].head()"
   ]
  },
  {
   "cell_type": "code",
   "execution_count": 10,
   "metadata": {},
   "outputs": [],
   "source": [
    "#drop anomalous value\n",
    "df = df.drop([40680])"
   ]
  },
  {
   "cell_type": "code",
   "execution_count": 11,
   "metadata": {},
   "outputs": [
    {
     "data": {
      "text/plain": [
       "(-121.8741186, -122.4537044763565, 37.88022244590679, 37.315157929983116)"
      ]
     },
     "execution_count": 11,
     "metadata": {},
     "output_type": "execute_result"
    }
   ],
   "source": [
    "bounds = geoBound (df,'start_station_latitude','start_station_longitude')\n",
    "bounds"
   ]
  },
  {
   "cell_type": "code",
   "execution_count": 12,
   "metadata": {},
   "outputs": [
    {
     "data": {
      "image/png": "[encoded data removed]",
      "text/plain": [
       "<Figure size 1300x900 with 1 Axes>"
      ]
     },
     "metadata": {},
     "output_type": "display_data"
    }
   ],
   "source": [
    "# map of station - view of san francisco area\n",
    "my_dpi=96\n",
    "plt.figure(figsize=(1300/my_dpi, 900/my_dpi), dpi=my_dpi)\n",
    "\n",
    "# Make the background map\n",
    "#m=Basemap(llcrnrlon=bounds[1], llcrnrlat=bounds[3],urcrnrlon=bounds[0],urcrnrlat=bounds[2])\n",
    "m=Basemap(llcrnrlon=-135, llcrnrlat=50,urcrnrlon=-110,urcrnrlat=25)\n",
    "m.drawmapboundary(fill_color='#A6CAE0', linewidth=0)\n",
    "m.fillcontinents(color='#ffa07a', alpha=0.3)\n",
    "m.drawcoastlines(linewidth=0.1, color=\"steelblue\")\n",
    "m.drawstates(color='white')\n",
    "\n",
    "# Add a point per position\n",
    "m.scatter(df['start_station_longitude'], df['start_station_latitude'], s=10, alpha=0.5, c = 'black',zorder=2)\n",
    "plt.title('Bike Stations in Bay Area',fontsize=18)\n",
    "plt.show()"
   ]
  },
  {
   "cell_type": "markdown",
   "metadata": {},
   "source": [
    "**Bikes stations in this data set are in northern california**"
   ]
  },
  {
   "cell_type": "code",
   "execution_count": 13,
   "metadata": {},
   "outputs": [
    {
     "data": {
      "image/png": "[encoded data removed]",
      "text/plain": [
       "<Figure size 1300x900 with 1 Axes>"
      ]
     },
     "metadata": {},
     "output_type": "display_data"
    }
   ],
   "source": [
    "# zoom in view of start stations\n",
    "my_dpi=96\n",
    "plt.figure(figsize=(1300/my_dpi, 900/my_dpi), dpi=my_dpi)\n",
    "\n",
    "# Make the background map\n",
    "m=Basemap(llcrnrlon=bounds[1], llcrnrlat=bounds[3],urcrnrlon=bounds[0],urcrnrlat=bounds[2])\n",
    "m.drawmapboundary(fill_color='#A6CAE0', linewidth=0)\n",
    "m.fillcontinents(color='#ffa07a', alpha=0.3)\n",
    "m.drawcoastlines(linewidth=0.1, color=\"steelblue\")\n",
    "m.drawstates(color='white')\n",
    "\n",
    "# Add a point per position\n",
    "m.scatter(df['start_station_longitude'], df['start_station_latitude'], s=10, alpha=0.5, c = 'black',zorder=2)\n",
    "plt.title('Bike Stations (Zoomed In)',fontsize=18)\n",
    "plt.show()"
   ]
  },
  {
   "cell_type": "markdown",
   "metadata": {},
   "source": [
    "**Zoomed in view of bike stations**"
   ]
  },
  {
   "cell_type": "markdown",
   "metadata": {},
   "source": [
    "How many bikes are there?"
   ]
  },
  {
   "cell_type": "code",
   "execution_count": 14,
   "metadata": {},
   "outputs": [
    {
     "data": {
      "text/plain": [
       "4520"
      ]
     },
     "execution_count": 14,
     "metadata": {},
     "output_type": "execute_result"
    }
   ],
   "source": [
    "#find number of unique bike ids \n",
    "df['bike_id'].nunique()"
   ]
  },
  {
   "cell_type": "markdown",
   "metadata": {},
   "source": [
    "**There are 4520 unique bikes in this dataset**"
   ]
  },
  {
   "cell_type": "markdown",
   "metadata": {},
   "source": [
    "Which types of customers are using the bikes?"
   ]
  },
  {
   "cell_type": "code",
   "execution_count": 15,
   "metadata": {},
   "outputs": [
    {
     "data": {
      "text/plain": [
       "user_type\n",
       "Customer       35914\n",
       "Subscriber    203196\n",
       "dtype: int64"
      ]
     },
     "execution_count": 15,
     "metadata": {},
     "output_type": "execute_result"
    }
   ],
   "source": [
    "#group data by user type to find number of customers vs subscribers\n",
    "df.groupby('user_type')[['user_type']].size()"
   ]
  },
  {
   "cell_type": "code",
   "execution_count": 16,
   "metadata": {},
   "outputs": [
    {
     "data": {
      "image/png": "[encoded data removed]",
      "text/plain": [
       "<Figure size 432x288 with 1 Axes>"
      ]
     },
     "metadata": {
      "needs_background": "light"
     },
     "output_type": "display_data"
    }
   ],
   "source": [
    "#barplot of user types (ie no of customers vs subscribers for all observations)\n",
    "users = df.groupby('user_type')[['user_type']].size().values\n",
    "index = ('Customer','Subscriber')\n",
    "y_pos = np.arange(len(index))\n",
    "plt.bar(y_pos, users)\n",
    "plt.xticks(y_pos, index)\n",
    "plt.title('User Type')\n",
    "plt.xlabel('Type')\n",
    "plt.ylabel('Count')\n",
    "plt.show()"
   ]
  },
  {
   "cell_type": "markdown",
   "metadata": {},
   "source": [
    "**35914 trips were taken by customers, 203196 trips were taken by subscribers**"
   ]
  },
  {
   "cell_type": "markdown",
   "metadata": {},
   "source": [
    "Do men or women ride the bikes more?"
   ]
  },
  {
   "cell_type": "code",
   "execution_count": 17,
   "metadata": {},
   "outputs": [
    {
     "data": {
      "text/plain": [
       "member_gender\n",
       "Female     55498\n",
       "Male      168139\n",
       "Other       4274\n",
       "dtype: int64"
      ]
     },
     "execution_count": 17,
     "metadata": {},
     "output_type": "execute_result"
    }
   ],
   "source": [
    "#group observations by gender\n",
    "df.groupby('member_gender')[['member_gender']].size()"
   ]
  },
  {
   "cell_type": "code",
   "execution_count": 18,
   "metadata": {},
   "outputs": [
    {
     "data": {
      "image/png": "[encoded data removed]",
      "text/plain": [
       "<Figure size 432x288 with 1 Axes>"
      ]
     },
     "metadata": {
      "needs_background": "light"
     },
     "output_type": "display_data"
    }
   ],
   "source": [
    "#barplot of observations by gender\n",
    "genders = df.groupby('member_gender')[['member_gender']].size().values\n",
    "index = ('Female','Male','Other')\n",
    "y_pos = np.arange(len(index))\n",
    "plt.bar(y_pos, genders)\n",
    "plt.xticks(y_pos, index)\n",
    "plt.title('Genders')\n",
    "plt.xlabel('Gender')\n",
    "plt.ylabel('Count')\n",
    "plt.show()"
   ]
  },
  {
   "cell_type": "markdown",
   "metadata": {},
   "source": [
    "**55498 trips were taken by females, 168139 trips were taken by males, and 4274 trips were taken by other**"
   ]
  },
  {
   "cell_type": "markdown",
   "metadata": {},
   "source": [
    "In general which linear variables affect trip duration?"
   ]
  },
  {
   "cell_type": "code",
   "execution_count": 19,
   "metadata": {},
   "outputs": [],
   "source": [
    "#create an intercept for a linear regresssion\n",
    "df['intercept'] = 1"
   ]
  },
  {
   "cell_type": "code",
   "execution_count": 20,
   "metadata": {},
   "outputs": [],
   "source": [
    "#drop missing value for linear regression\n",
    "df2 = df.copy()\n",
    "df2 = df2.dropna()\n",
    "#linear regression with linear variables \n",
    "X = df2[['start_station_latitude','start_station_longitude','end_station_id','end_station_latitude','end_station_longitude','bike_id','member_birth_year','intercept']]\n",
    "Y = df2[['duration_sec']]\n",
    "model = sm.OLS(Y,X.astype(float)).fit()"
   ]
  },
  {
   "cell_type": "code",
   "execution_count": 21,
   "metadata": {},
   "outputs": [
    {
     "data": {
      "text/html": [
       "<table class=\"simpletable\">\n",
       "<caption>OLS Regression Results</caption>\n",
       "<tr>\n",
       "  <th>Dep. Variable:</th>      <td>duration_sec</td>   <th>  R-squared:         </th>  <td>   0.005</td>  \n",
       "</tr>\n",
       "<tr>\n",
       "  <th>Model:</th>                   <td>OLS</td>       <th>  Adj. R-squared:    </th>  <td>   0.005</td>  \n",
       "</tr>\n",
       "<tr>\n",
       "  <th>Method:</th>             <td>Least Squares</td>  <th>  F-statistic:       </th>  <td>   154.5</td>  \n",
       "</tr>\n",
       "<tr>\n",
       "  <th>Date:</th>             <td>Tue, 14 May 2019</td> <th>  Prob (F-statistic):</th>  <td>1.15e-228</td> \n",
       "</tr>\n",
       "<tr>\n",
       "  <th>Time:</th>                 <td>00:07:46</td>     <th>  Log-Likelihood:    </th> <td>-2.0334e+06</td>\n",
       "</tr>\n",
       "<tr>\n",
       "  <th>No. Observations:</th>      <td>227847</td>      <th>  AIC:               </th>  <td>4.067e+06</td> \n",
       "</tr>\n",
       "<tr>\n",
       "  <th>Df Residuals:</th>          <td>227839</td>      <th>  BIC:               </th>  <td>4.067e+06</td> \n",
       "</tr>\n",
       "<tr>\n",
       "  <th>Df Model:</th>              <td>     7</td>      <th>                     </th>      <td> </td>     \n",
       "</tr>\n",
       "<tr>\n",
       "  <th>Covariance Type:</th>      <td>nonrobust</td>    <th>                     </th>      <td> </td>     \n",
       "</tr>\n",
       "</table>\n",
       "<table class=\"simpletable\">\n",
       "<tr>\n",
       "             <td></td>                <th>coef</th>     <th>std err</th>      <th>t</th>      <th>P>|t|</th>  <th>[0.025</th>    <th>0.975]</th>  \n",
       "</tr>\n",
       "<tr>\n",
       "  <th>start_station_latitude</th>  <td> -932.1639</td> <td>  248.038</td> <td>   -3.758</td> <td> 0.000</td> <td>-1418.312</td> <td> -446.016</td>\n",
       "</tr>\n",
       "<tr>\n",
       "  <th>start_station_longitude</th> <td>-1448.7727</td> <td>   88.448</td> <td>  -16.380</td> <td> 0.000</td> <td>-1622.128</td> <td>-1275.417</td>\n",
       "</tr>\n",
       "<tr>\n",
       "  <th>end_station_id</th>          <td>    1.0361</td> <td>    0.038</td> <td>   27.425</td> <td> 0.000</td> <td>    0.962</td> <td>    1.110</td>\n",
       "</tr>\n",
       "<tr>\n",
       "  <th>end_station_latitude</th>    <td>  273.5565</td> <td>  249.349</td> <td>    1.097</td> <td> 0.273</td> <td> -215.162</td> <td>  762.275</td>\n",
       "</tr>\n",
       "<tr>\n",
       "  <th>end_station_longitude</th>   <td>   83.2994</td> <td>   76.996</td> <td>    1.082</td> <td> 0.279</td> <td>  -67.611</td> <td>  234.210</td>\n",
       "</tr>\n",
       "<tr>\n",
       "  <th>bike_id</th>                 <td>   -0.0024</td> <td>    0.002</td> <td>   -1.375</td> <td> 0.169</td> <td>   -0.006</td> <td>    0.001</td>\n",
       "</tr>\n",
       "<tr>\n",
       "  <th>member_birth_year</th>       <td>   -0.6712</td> <td>    0.386</td> <td>   -1.738</td> <td> 0.082</td> <td>   -1.428</td> <td>    0.086</td>\n",
       "</tr>\n",
       "<tr>\n",
       "  <th>intercept</th>               <td>-1.402e+05</td> <td> 5064.583</td> <td>  -27.688</td> <td> 0.000</td> <td> -1.5e+05</td> <td> -1.3e+05</td>\n",
       "</tr>\n",
       "</table>\n",
       "<table class=\"simpletable\">\n",
       "<tr>\n",
       "  <th>Omnibus:</th>       <td>565968.311</td> <th>  Durbin-Watson:     </th>    <td>   1.940</td>   \n",
       "</tr>\n",
       "<tr>\n",
       "  <th>Prob(Omnibus):</th>   <td> 0.000</td>   <th>  Jarque-Bera (JB):  </th> <td>8292575938.093</td>\n",
       "</tr>\n",
       "<tr>\n",
       "  <th>Skew:</th>            <td>27.175</td>   <th>  Prob(JB):          </th>    <td>    0.00</td>   \n",
       "</tr>\n",
       "<tr>\n",
       "  <th>Kurtosis:</th>        <td>936.025</td>  <th>  Cond. No.          </th>    <td>6.15e+06</td>   \n",
       "</tr>\n",
       "</table><br/><br/>Warnings:<br/>[1] Standard Errors assume that the covariance matrix of the errors is correctly specified.<br/>[2] The condition number is large, 6.15e+06. This might indicate that there are<br/>strong multicollinearity or other numerical problems."
      ],
      "text/plain": [
       "<class 'statsmodels.iolib.summary.Summary'>\n",
       "\"\"\"\n",
       "                            OLS Regression Results                            \n",
       "==============================================================================\n",
       "Dep. Variable:           duration_sec   R-squared:                       0.005\n",
       "Model:                            OLS   Adj. R-squared:                  0.005\n",
       "Method:                 Least Squares   F-statistic:                     154.5\n",
       "Date:                Tue, 14 May 2019   Prob (F-statistic):          1.15e-228\n",
       "Time:                        00:07:46   Log-Likelihood:            -2.0334e+06\n",
       "No. Observations:              227847   AIC:                         4.067e+06\n",
       "Df Residuals:                  227839   BIC:                         4.067e+06\n",
       "Df Model:                           7                                         \n",
       "Covariance Type:            nonrobust                                         \n",
       "===========================================================================================\n",
       "                              coef    std err          t      P>|t|      [0.025      0.975]\n",
       "-------------------------------------------------------------------------------------------\n",
       "start_station_latitude   -932.1639    248.038     -3.758      0.000   -1418.312    -446.016\n",
       "start_station_longitude -1448.7727     88.448    -16.380      0.000   -1622.128   -1275.417\n",
       "end_station_id              1.0361      0.038     27.425      0.000       0.962       1.110\n",
       "end_station_latitude      273.5565    249.349      1.097      0.273    -215.162     762.275\n",
       "end_station_longitude      83.2994     76.996      1.082      0.279     -67.611     234.210\n",
       "bike_id                    -0.0024      0.002     -1.375      0.169      -0.006       0.001\n",
       "member_birth_year          -0.6712      0.386     -1.738      0.082      -1.428       0.086\n",
       "intercept               -1.402e+05   5064.583    -27.688      0.000    -1.5e+05    -1.3e+05\n",
       "==============================================================================\n",
       "Omnibus:                   565968.311   Durbin-Watson:                   1.940\n",
       "Prob(Omnibus):                  0.000   Jarque-Bera (JB):       8292575938.093\n",
       "Skew:                          27.175   Prob(JB):                         0.00\n",
       "Kurtosis:                     936.025   Cond. No.                     6.15e+06\n",
       "==============================================================================\n",
       "\n",
       "Warnings:\n",
       "[1] Standard Errors assume that the covariance matrix of the errors is correctly specified.\n",
       "[2] The condition number is large, 6.15e+06. This might indicate that there are\n",
       "strong multicollinearity or other numerical problems.\n",
       "\"\"\""
      ]
     },
     "execution_count": 21,
     "metadata": {},
     "output_type": "execute_result"
    }
   ],
   "source": [
    "#low r squared, so only .5% of variation in y can be explained by the model. yikes\n",
    "model.summary()"
   ]
  },
  {
   "cell_type": "markdown",
   "metadata": {},
   "source": [
    "**Really weak r squared. 0.5% of the variation in trip duration can be explained by the model**"
   ]
  },
  {
   "cell_type": "code",
   "execution_count": 22,
   "metadata": {},
   "outputs": [],
   "source": [
    "df2 = df2.drop('intercept',axis=1)"
   ]
  },
  {
   "cell_type": "code",
   "execution_count": 23,
   "metadata": {},
   "outputs": [
    {
     "data": {
      "text/html": [
       "<div>\n",
       "<style scoped>\n",
       "    .dataframe tbody tr th:only-of-type {\n",
       "        vertical-align: middle;\n",
       "    }\n",
       "\n",
       "    .dataframe tbody tr th {\n",
       "        vertical-align: top;\n",
       "    }\n",
       "\n",
       "    .dataframe thead th {\n",
       "        text-align: right;\n",
       "    }\n",
       "</style>\n",
       "<table border=\"1\" class=\"dataframe\">\n",
       "  <thead>\n",
       "    <tr style=\"text-align: right;\">\n",
       "      <th></th>\n",
       "      <th>duration_sec</th>\n",
       "      <th>start_station_id</th>\n",
       "      <th>start_station_latitude</th>\n",
       "      <th>start_station_longitude</th>\n",
       "      <th>end_station_id</th>\n",
       "      <th>end_station_latitude</th>\n",
       "      <th>end_station_longitude</th>\n",
       "      <th>bike_id</th>\n",
       "      <th>member_birth_year</th>\n",
       "    </tr>\n",
       "  </thead>\n",
       "  <tbody>\n",
       "    <tr>\n",
       "      <th>duration_sec</th>\n",
       "      <td>1.000000</td>\n",
       "      <td>0.010489</td>\n",
       "      <td>0.013379</td>\n",
       "      <td>-0.034430</td>\n",
       "      <td>0.031919</td>\n",
       "      <td>0.002797</td>\n",
       "      <td>-0.002595</td>\n",
       "      <td>0.001795</td>\n",
       "      <td>-0.004507</td>\n",
       "    </tr>\n",
       "    <tr>\n",
       "      <th>start_station_id</th>\n",
       "      <td>0.010489</td>\n",
       "      <td>1.000000</td>\n",
       "      <td>-0.208497</td>\n",
       "      <td>0.431878</td>\n",
       "      <td>0.326992</td>\n",
       "      <td>-0.061853</td>\n",
       "      <td>0.052152</td>\n",
       "      <td>0.016041</td>\n",
       "      <td>0.110345</td>\n",
       "    </tr>\n",
       "    <tr>\n",
       "      <th>start_station_latitude</th>\n",
       "      <td>0.013379</td>\n",
       "      <td>-0.208497</td>\n",
       "      <td>1.000000</td>\n",
       "      <td>-0.705841</td>\n",
       "      <td>-0.198060</td>\n",
       "      <td>0.289935</td>\n",
       "      <td>-0.077462</td>\n",
       "      <td>0.004169</td>\n",
       "      <td>-0.074800</td>\n",
       "    </tr>\n",
       "    <tr>\n",
       "      <th>start_station_longitude</th>\n",
       "      <td>-0.034430</td>\n",
       "      <td>0.431878</td>\n",
       "      <td>-0.705841</td>\n",
       "      <td>1.000000</td>\n",
       "      <td>0.451673</td>\n",
       "      <td>-0.203495</td>\n",
       "      <td>0.103982</td>\n",
       "      <td>-0.038727</td>\n",
       "      <td>0.117910</td>\n",
       "    </tr>\n",
       "    <tr>\n",
       "      <th>end_station_id</th>\n",
       "      <td>0.031919</td>\n",
       "      <td>0.326992</td>\n",
       "      <td>-0.198060</td>\n",
       "      <td>0.451673</td>\n",
       "      <td>1.000000</td>\n",
       "      <td>-0.082899</td>\n",
       "      <td>0.069073</td>\n",
       "      <td>0.022288</td>\n",
       "      <td>0.107498</td>\n",
       "    </tr>\n",
       "    <tr>\n",
       "      <th>end_station_latitude</th>\n",
       "      <td>0.002797</td>\n",
       "      <td>-0.061853</td>\n",
       "      <td>0.289935</td>\n",
       "      <td>-0.203495</td>\n",
       "      <td>-0.082899</td>\n",
       "      <td>1.000000</td>\n",
       "      <td>-0.973192</td>\n",
       "      <td>0.008691</td>\n",
       "      <td>-0.021755</td>\n",
       "    </tr>\n",
       "    <tr>\n",
       "      <th>end_station_longitude</th>\n",
       "      <td>-0.002595</td>\n",
       "      <td>0.052152</td>\n",
       "      <td>-0.077462</td>\n",
       "      <td>0.103982</td>\n",
       "      <td>0.069073</td>\n",
       "      <td>-0.973192</td>\n",
       "      <td>1.000000</td>\n",
       "      <td>-0.012199</td>\n",
       "      <td>0.012732</td>\n",
       "    </tr>\n",
       "    <tr>\n",
       "      <th>bike_id</th>\n",
       "      <td>0.001795</td>\n",
       "      <td>0.016041</td>\n",
       "      <td>0.004169</td>\n",
       "      <td>-0.038727</td>\n",
       "      <td>0.022288</td>\n",
       "      <td>0.008691</td>\n",
       "      <td>-0.012199</td>\n",
       "      <td>1.000000</td>\n",
       "      <td>0.033937</td>\n",
       "    </tr>\n",
       "    <tr>\n",
       "      <th>member_birth_year</th>\n",
       "      <td>-0.004507</td>\n",
       "      <td>0.110345</td>\n",
       "      <td>-0.074800</td>\n",
       "      <td>0.117910</td>\n",
       "      <td>0.107498</td>\n",
       "      <td>-0.021755</td>\n",
       "      <td>0.012732</td>\n",
       "      <td>0.033937</td>\n",
       "      <td>1.000000</td>\n",
       "    </tr>\n",
       "  </tbody>\n",
       "</table>\n",
       "</div>"
      ],
      "text/plain": [
       "                         duration_sec  start_station_id  \\\n",
       "duration_sec                 1.000000          0.010489   \n",
       "start_station_id             0.010489          1.000000   \n",
       "start_station_latitude       0.013379         -0.208497   \n",
       "start_station_longitude     -0.034430          0.431878   \n",
       "end_station_id               0.031919          0.326992   \n",
       "end_station_latitude         0.002797         -0.061853   \n",
       "end_station_longitude       -0.002595          0.052152   \n",
       "bike_id                      0.001795          0.016041   \n",
       "member_birth_year           -0.004507          0.110345   \n",
       "\n",
       "                         start_station_latitude  start_station_longitude  \\\n",
       "duration_sec                           0.013379                -0.034430   \n",
       "start_station_id                      -0.208497                 0.431878   \n",
       "start_station_latitude                 1.000000                -0.705841   \n",
       "start_station_longitude               -0.705841                 1.000000   \n",
       "end_station_id                        -0.198060                 0.451673   \n",
       "end_station_latitude                   0.289935                -0.203495   \n",
       "end_station_longitude                 -0.077462                 0.103982   \n",
       "bike_id                                0.004169                -0.038727   \n",
       "member_birth_year                     -0.074800                 0.117910   \n",
       "\n",
       "                         end_station_id  end_station_latitude  \\\n",
       "duration_sec                   0.031919              0.002797   \n",
       "start_station_id               0.326992             -0.061853   \n",
       "start_station_latitude        -0.198060              0.289935   \n",
       "start_station_longitude        0.451673             -0.203495   \n",
       "end_station_id                 1.000000             -0.082899   \n",
       "end_station_latitude          -0.082899              1.000000   \n",
       "end_station_longitude          0.069073             -0.973192   \n",
       "bike_id                        0.022288              0.008691   \n",
       "member_birth_year              0.107498             -0.021755   \n",
       "\n",
       "                         end_station_longitude   bike_id  member_birth_year  \n",
       "duration_sec                         -0.002595  0.001795          -0.004507  \n",
       "start_station_id                      0.052152  0.016041           0.110345  \n",
       "start_station_latitude               -0.077462  0.004169          -0.074800  \n",
       "start_station_longitude               0.103982 -0.038727           0.117910  \n",
       "end_station_id                        0.069073  0.022288           0.107498  \n",
       "end_station_latitude                 -0.973192  0.008691          -0.021755  \n",
       "end_station_longitude                 1.000000 -0.012199           0.012732  \n",
       "bike_id                              -0.012199  1.000000           0.033937  \n",
       "member_birth_year                     0.012732  0.033937           1.000000  "
      ]
     },
     "execution_count": 23,
     "metadata": {},
     "output_type": "execute_result"
    }
   ],
   "source": [
    "corr = df2.corr()\n",
    "corr"
   ]
  },
  {
   "cell_type": "code",
   "execution_count": 24,
   "metadata": {},
   "outputs": [
    {
     "data": {
      "image/png": "[encoded data removed]",
      "text/plain": [
       "<Figure size 720x432 with 2 Axes>"
      ]
     },
     "metadata": {
      "needs_background": "light"
     },
     "output_type": "display_data"
    }
   ],
   "source": [
    "# Correlation Matrix Heatmap\n",
    "f, ax = plt.subplots(figsize=(10, 6))\n",
    "hm = sns.heatmap(round(corr,2), annot=True, ax=ax, cmap=\"coolwarm\",fmt='.2f',linewidths=.05)\n",
    "f.subplots_adjust(top=0.93)\n",
    "t= f.suptitle('Bike Rides Correlation Heatmap', fontsize=14)"
   ]
  },
  {
   "cell_type": "markdown",
   "metadata": {},
   "source": [
    "Duration is not strongly correlated with any variable "
   ]
  },
  {
   "cell_type": "markdown",
   "metadata": {},
   "source": [
    "How does user type affect trip duration?"
   ]
  },
  {
   "cell_type": "code",
   "execution_count": 25,
   "metadata": {},
   "outputs": [],
   "source": [
    "#ride durations for customers, subscribers separately\n",
    "customers = df[df['user_type']=='Customer'][['duration_sec']].values\n",
    "subscribers = df[df['user_type']=='Subscriber'][['duration_sec']].values\n",
    "data_to_plot = [customers, subscribers]"
   ]
  },
  {
   "cell_type": "code",
   "execution_count": 26,
   "metadata": {},
   "outputs": [
    {
     "data": {
      "text/plain": [
       "Text(0, 0.5, 'Seconds')"
      ]
     },
     "execution_count": 26,
     "metadata": {},
     "output_type": "execute_result"
    },
    {
     "data": {
      "image/png": "[encoded data removed]",
      "text/plain": [
       "<Figure size 648x432 with 1 Axes>"
      ]
     },
     "metadata": {
      "needs_background": "light"
     },
     "output_type": "display_data"
    }
   ],
   "source": [
    "#create box plots to compare trip durations between customers and subscribers\n",
    "fig = plt.figure(1, figsize=(9, 6))\n",
    "ax = fig.add_subplot(111)\n",
    "bp = ax.boxplot(data_to_plot,showfliers=False)\n",
    "ax.set_xticklabels(['Customers', 'Subscribers'])\n",
    "plt.title('Trip Durations by User Type')\n",
    "plt.xlabel('User Type')\n",
    "plt.ylabel('Seconds')"
   ]
  },
  {
   "cell_type": "code",
   "execution_count": 27,
   "metadata": {},
   "outputs": [
    {
     "data": {
      "text/html": [
       "<div>\n",
       "<style scoped>\n",
       "    .dataframe tbody tr th:only-of-type {\n",
       "        vertical-align: middle;\n",
       "    }\n",
       "\n",
       "    .dataframe tbody tr th {\n",
       "        vertical-align: top;\n",
       "    }\n",
       "\n",
       "    .dataframe thead th {\n",
       "        text-align: right;\n",
       "    }\n",
       "</style>\n",
       "<table border=\"1\" class=\"dataframe\">\n",
       "  <thead>\n",
       "    <tr style=\"text-align: right;\">\n",
       "      <th></th>\n",
       "      <th>duration_sec</th>\n",
       "    </tr>\n",
       "  </thead>\n",
       "  <tbody>\n",
       "    <tr>\n",
       "      <th>count</th>\n",
       "      <td>35914.000000</td>\n",
       "    </tr>\n",
       "    <tr>\n",
       "      <th>mean</th>\n",
       "      <td>1527.475943</td>\n",
       "    </tr>\n",
       "    <tr>\n",
       "      <th>std</th>\n",
       "      <td>3870.654407</td>\n",
       "    </tr>\n",
       "    <tr>\n",
       "      <th>min</th>\n",
       "      <td>61.000000</td>\n",
       "    </tr>\n",
       "    <tr>\n",
       "      <th>25%</th>\n",
       "      <td>546.000000</td>\n",
       "    </tr>\n",
       "    <tr>\n",
       "      <th>50%</th>\n",
       "      <td>879.000000</td>\n",
       "    </tr>\n",
       "    <tr>\n",
       "      <th>75%</th>\n",
       "      <td>1415.000000</td>\n",
       "    </tr>\n",
       "    <tr>\n",
       "      <th>max</th>\n",
       "      <td>85496.000000</td>\n",
       "    </tr>\n",
       "  </tbody>\n",
       "</table>\n",
       "</div>"
      ],
      "text/plain": [
       "       duration_sec\n",
       "count  35914.000000\n",
       "mean    1527.475943\n",
       "std     3870.654407\n",
       "min       61.000000\n",
       "25%      546.000000\n",
       "50%      879.000000\n",
       "75%     1415.000000\n",
       "max    85496.000000"
      ]
     },
     "execution_count": 27,
     "metadata": {},
     "output_type": "execute_result"
    }
   ],
   "source": [
    "#trip duration quartiles for customers \n",
    "df[df['user_type']=='Customer'][['duration_sec']].describe()"
   ]
  },
  {
   "cell_type": "code",
   "execution_count": 28,
   "metadata": {},
   "outputs": [
    {
     "data": {
      "text/html": [
       "<div>\n",
       "<style scoped>\n",
       "    .dataframe tbody tr th:only-of-type {\n",
       "        vertical-align: middle;\n",
       "    }\n",
       "\n",
       "    .dataframe tbody tr th {\n",
       "        vertical-align: top;\n",
       "    }\n",
       "\n",
       "    .dataframe thead th {\n",
       "        text-align: right;\n",
       "    }\n",
       "</style>\n",
       "<table border=\"1\" class=\"dataframe\">\n",
       "  <thead>\n",
       "    <tr style=\"text-align: right;\">\n",
       "      <th></th>\n",
       "      <th>duration_sec</th>\n",
       "    </tr>\n",
       "  </thead>\n",
       "  <tbody>\n",
       "    <tr>\n",
       "      <th>count</th>\n",
       "      <td>203196.000000</td>\n",
       "    </tr>\n",
       "    <tr>\n",
       "      <th>mean</th>\n",
       "      <td>674.568235</td>\n",
       "    </tr>\n",
       "    <tr>\n",
       "      <th>std</th>\n",
       "      <td>1379.449580</td>\n",
       "    </tr>\n",
       "    <tr>\n",
       "      <th>min</th>\n",
       "      <td>61.000000</td>\n",
       "    </tr>\n",
       "    <tr>\n",
       "      <th>25%</th>\n",
       "      <td>330.000000</td>\n",
       "    </tr>\n",
       "    <tr>\n",
       "      <th>50%</th>\n",
       "      <td>521.000000</td>\n",
       "    </tr>\n",
       "    <tr>\n",
       "      <th>75%</th>\n",
       "      <td>800.000000</td>\n",
       "    </tr>\n",
       "    <tr>\n",
       "      <th>max</th>\n",
       "      <td>86114.000000</td>\n",
       "    </tr>\n",
       "  </tbody>\n",
       "</table>\n",
       "</div>"
      ],
      "text/plain": [
       "        duration_sec\n",
       "count  203196.000000\n",
       "mean      674.568235\n",
       "std      1379.449580\n",
       "min        61.000000\n",
       "25%       330.000000\n",
       "50%       521.000000\n",
       "75%       800.000000\n",
       "max     86114.000000"
      ]
     },
     "execution_count": 28,
     "metadata": {},
     "output_type": "execute_result"
    }
   ],
   "source": [
    "#trip duration quartiles for subscribers\n",
    "df[df['user_type']=='Subscriber'][['duration_sec']].describe()"
   ]
  },
  {
   "cell_type": "markdown",
   "metadata": {},
   "source": [
    "**Customers have median trip duration of 879 seconds, subscribers have median duration of 521 seconds. THere is more variation in customer trip duration**"
   ]
  },
  {
   "cell_type": "markdown",
   "metadata": {},
   "source": [
    "How does gender affect trip duration?"
   ]
  },
  {
   "cell_type": "code",
   "execution_count": 29,
   "metadata": {},
   "outputs": [],
   "source": [
    "#trip durations for females, males, and other separately\n",
    "female = df[df['member_gender']=='Female'][['duration_sec']].values\n",
    "male = df[df['member_gender']=='Male'][['duration_sec']].values\n",
    "other = df[df['member_gender']=='Other'][['duration_sec']].values\n",
    "data_to_plot = [female, male, other]"
   ]
  },
  {
   "cell_type": "code",
   "execution_count": 30,
   "metadata": {},
   "outputs": [
    {
     "data": {
      "text/plain": [
       "Text(0, 0.5, 'Seconds')"
      ]
     },
     "execution_count": 30,
     "metadata": {},
     "output_type": "execute_result"
    },
    {
     "data": {
      "image/png": "[encoded data removed]",
      "text/plain": [
       "<Figure size 648x432 with 1 Axes>"
      ]
     },
     "metadata": {
      "needs_background": "light"
     },
     "output_type": "display_data"
    }
   ],
   "source": [
    "#create box plots to compare trip durations by gender \n",
    "fig = plt.figure(1, figsize=(9, 6))\n",
    "ax = fig.add_subplot(111)\n",
    "bp = ax.boxplot(data_to_plot,showfliers=False)\n",
    "ax.set_xticklabels(['Female', 'Male','Other'])\n",
    "plt.title('Trip Durations by Gender')\n",
    "plt.xlabel('Gender')\n",
    "plt.ylabel('Seconds')"
   ]
  },
  {
   "cell_type": "code",
   "execution_count": 31,
   "metadata": {},
   "outputs": [
    {
     "data": {
      "text/html": [
       "<div>\n",
       "<style scoped>\n",
       "    .dataframe tbody tr th:only-of-type {\n",
       "        vertical-align: middle;\n",
       "    }\n",
       "\n",
       "    .dataframe tbody tr th {\n",
       "        vertical-align: top;\n",
       "    }\n",
       "\n",
       "    .dataframe thead th {\n",
       "        text-align: right;\n",
       "    }\n",
       "</style>\n",
       "<table border=\"1\" class=\"dataframe\">\n",
       "  <thead>\n",
       "    <tr style=\"text-align: right;\">\n",
       "      <th></th>\n",
       "      <th>duration_sec</th>\n",
       "    </tr>\n",
       "  </thead>\n",
       "  <tbody>\n",
       "    <tr>\n",
       "      <th>count</th>\n",
       "      <td>55498.000000</td>\n",
       "    </tr>\n",
       "    <tr>\n",
       "      <th>mean</th>\n",
       "      <td>875.889059</td>\n",
       "    </tr>\n",
       "    <tr>\n",
       "      <th>std</th>\n",
       "      <td>2071.526549</td>\n",
       "    </tr>\n",
       "    <tr>\n",
       "      <th>min</th>\n",
       "      <td>61.000000</td>\n",
       "    </tr>\n",
       "    <tr>\n",
       "      <th>25%</th>\n",
       "      <td>389.000000</td>\n",
       "    </tr>\n",
       "    <tr>\n",
       "      <th>50%</th>\n",
       "      <td>623.000000</td>\n",
       "    </tr>\n",
       "    <tr>\n",
       "      <th>75%</th>\n",
       "      <td>963.000000</td>\n",
       "    </tr>\n",
       "    <tr>\n",
       "      <th>max</th>\n",
       "      <td>86114.000000</td>\n",
       "    </tr>\n",
       "  </tbody>\n",
       "</table>\n",
       "</div>"
      ],
      "text/plain": [
       "       duration_sec\n",
       "count  55498.000000\n",
       "mean     875.889059\n",
       "std     2071.526549\n",
       "min       61.000000\n",
       "25%      389.000000\n",
       "50%      623.000000\n",
       "75%      963.000000\n",
       "max    86114.000000"
      ]
     },
     "execution_count": 31,
     "metadata": {},
     "output_type": "execute_result"
    }
   ],
   "source": [
    "#trip duration quartiles for females\n",
    "df[df['member_gender']=='Female'][['duration_sec']].describe()"
   ]
  },
  {
   "cell_type": "code",
   "execution_count": 32,
   "metadata": {},
   "outputs": [
    {
     "data": {
      "text/html": [
       "<div>\n",
       "<style scoped>\n",
       "    .dataframe tbody tr th:only-of-type {\n",
       "        vertical-align: middle;\n",
       "    }\n",
       "\n",
       "    .dataframe tbody tr th {\n",
       "        vertical-align: top;\n",
       "    }\n",
       "\n",
       "    .dataframe thead th {\n",
       "        text-align: right;\n",
       "    }\n",
       "</style>\n",
       "<table border=\"1\" class=\"dataframe\">\n",
       "  <thead>\n",
       "    <tr style=\"text-align: right;\">\n",
       "      <th></th>\n",
       "      <th>duration_sec</th>\n",
       "    </tr>\n",
       "  </thead>\n",
       "  <tbody>\n",
       "    <tr>\n",
       "      <th>count</th>\n",
       "      <td>168139.000000</td>\n",
       "    </tr>\n",
       "    <tr>\n",
       "      <th>mean</th>\n",
       "      <td>730.428901</td>\n",
       "    </tr>\n",
       "    <tr>\n",
       "      <th>std</th>\n",
       "      <td>1653.096590</td>\n",
       "    </tr>\n",
       "    <tr>\n",
       "      <th>min</th>\n",
       "      <td>61.000000</td>\n",
       "    </tr>\n",
       "    <tr>\n",
       "      <th>25%</th>\n",
       "      <td>334.000000</td>\n",
       "    </tr>\n",
       "    <tr>\n",
       "      <th>50%</th>\n",
       "      <td>532.000000</td>\n",
       "    </tr>\n",
       "    <tr>\n",
       "      <th>75%</th>\n",
       "      <td>830.000000</td>\n",
       "    </tr>\n",
       "    <tr>\n",
       "      <th>max</th>\n",
       "      <td>84782.000000</td>\n",
       "    </tr>\n",
       "  </tbody>\n",
       "</table>\n",
       "</div>"
      ],
      "text/plain": [
       "        duration_sec\n",
       "count  168139.000000\n",
       "mean      730.428901\n",
       "std      1653.096590\n",
       "min        61.000000\n",
       "25%       334.000000\n",
       "50%       532.000000\n",
       "75%       830.000000\n",
       "max     84782.000000"
      ]
     },
     "execution_count": 32,
     "metadata": {},
     "output_type": "execute_result"
    }
   ],
   "source": [
    "#trip duration quartile for males\n",
    "df[df['member_gender']=='Male'][['duration_sec']].describe()"
   ]
  },
  {
   "cell_type": "code",
   "execution_count": 33,
   "metadata": {},
   "outputs": [
    {
     "data": {
      "text/html": [
       "<div>\n",
       "<style scoped>\n",
       "    .dataframe tbody tr th:only-of-type {\n",
       "        vertical-align: middle;\n",
       "    }\n",
       "\n",
       "    .dataframe tbody tr th {\n",
       "        vertical-align: top;\n",
       "    }\n",
       "\n",
       "    .dataframe thead th {\n",
       "        text-align: right;\n",
       "    }\n",
       "</style>\n",
       "<table border=\"1\" class=\"dataframe\">\n",
       "  <thead>\n",
       "    <tr style=\"text-align: right;\">\n",
       "      <th></th>\n",
       "      <th>duration_sec</th>\n",
       "    </tr>\n",
       "  </thead>\n",
       "  <tbody>\n",
       "    <tr>\n",
       "      <th>count</th>\n",
       "      <td>4274.000000</td>\n",
       "    </tr>\n",
       "    <tr>\n",
       "      <th>mean</th>\n",
       "      <td>1054.262518</td>\n",
       "    </tr>\n",
       "    <tr>\n",
       "      <th>std</th>\n",
       "      <td>3683.014847</td>\n",
       "    </tr>\n",
       "    <tr>\n",
       "      <th>min</th>\n",
       "      <td>66.000000</td>\n",
       "    </tr>\n",
       "    <tr>\n",
       "      <th>25%</th>\n",
       "      <td>355.000000</td>\n",
       "    </tr>\n",
       "    <tr>\n",
       "      <th>50%</th>\n",
       "      <td>586.000000</td>\n",
       "    </tr>\n",
       "    <tr>\n",
       "      <th>75%</th>\n",
       "      <td>946.000000</td>\n",
       "    </tr>\n",
       "    <tr>\n",
       "      <th>max</th>\n",
       "      <td>84241.000000</td>\n",
       "    </tr>\n",
       "  </tbody>\n",
       "</table>\n",
       "</div>"
      ],
      "text/plain": [
       "       duration_sec\n",
       "count   4274.000000\n",
       "mean    1054.262518\n",
       "std     3683.014847\n",
       "min       66.000000\n",
       "25%      355.000000\n",
       "50%      586.000000\n",
       "75%      946.000000\n",
       "max    84241.000000"
      ]
     },
     "execution_count": 33,
     "metadata": {},
     "output_type": "execute_result"
    }
   ],
   "source": [
    "#trip duration quartile for other\n",
    "df[df['member_gender']=='Other'][['duration_sec']].describe()"
   ]
  },
  {
   "cell_type": "markdown",
   "metadata": {},
   "source": [
    "**Females have median trip duration of 623 seconds, males have median duration of 532 seconds, and other have median duration of 586 seconds. The three distributions are fairly similar**"
   ]
  },
  {
   "cell_type": "markdown",
   "metadata": {},
   "source": [
    "What is the relationship between age (birth year) and trip duration?"
   ]
  },
  {
   "cell_type": "code",
   "execution_count": 34,
   "metadata": {},
   "outputs": [
    {
     "data": {
      "image/png": "[encoded data removed]",
      "text/plain": [
       "<Figure size 432x288 with 1 Axes>"
      ]
     },
     "metadata": {
      "needs_background": "light"
     },
     "output_type": "display_data"
    }
   ],
   "source": [
    "#scatter birth year vs trip duration\n",
    "plt.scatter(df['member_birth_year'],df['duration_sec'])\n",
    "plt.title('Birth Year vs Trip Duration')\n",
    "plt.xlabel('Year')\n",
    "plt.ylabel('Seconds');"
   ]
  },
  {
   "cell_type": "markdown",
   "metadata": {},
   "source": [
    "No clear linear trend, but older people dont take long trips. More variation in younger riders."
   ]
  },
  {
   "cell_type": "markdown",
   "metadata": {},
   "source": [
    "What is the age distribution of riders?"
   ]
  },
  {
   "cell_type": "code",
   "execution_count": 35,
   "metadata": {},
   "outputs": [
    {
     "data": {
      "image/png": "[encoded data removed]",
      "text/plain": [
       "<Figure size 432x288 with 1 Axes>"
      ]
     },
     "metadata": {
      "needs_background": "light"
     },
     "output_type": "display_data"
    }
   ],
   "source": [
    "df['member_birth_year'].hist()\n",
    "plt.xlabel('Year')\n",
    "plt.ylabel('Count')\n",
    "plt.title('Age Distribution of Riders');"
   ]
  },
  {
   "cell_type": "markdown",
   "metadata": {},
   "source": [
    "# Summary of Main Findings"
   ]
  },
  {
   "cell_type": "markdown",
   "metadata": {},
   "source": [
    "The goal of this analysis was to have a high level understanding and overview of the Ford Go Bike System. In order to have the most current view of the company, the April 2019 dataset was pulled from this site https://s3.amazonaws.com/fordgobike-data/index.html ."
   ]
  },
  {
   "cell_type": "markdown",
   "metadata": {},
   "source": [
    "After scanning the data, I was interested in exploring the following two topics: \n",
    "\n",
    "1. Where are the bikes located and how many are there?\n",
    "2. Who is using the bikes and how often?"
   ]
  },
  {
   "cell_type": "markdown",
   "metadata": {},
   "source": [
    "During the data cleaning process, I reviewed data types, dropped anomalous values, and dropped NaN line items when necessary. I then used maps, bar charts, and box plots from the matplotlib library to visualize my data."
   ]
  },
  {
   "cell_type": "markdown",
   "metadata": {},
   "source": [
    "My analysis yeiled the following findings:\n",
    "- Bike stations are in Northern California (San Jose area).\n",
    "- There are 4520 unique bikes. \n",
    "- More trips are taken by subscribers than by customers. (203196 by subscribers, 35914 by customers)\n",
    "- More trips are taken by men than by women and other. (55498 by females, 168139 males, and 4274 by other)\n",
    "- One-time customers take longer trips than regular subscribers. (Customers median trip is 879 sec, subscribers median trip is 521 sec)\n",
    "- Females trips are longer than male or other trips. Female median is 623 sec, male median is 532 sec, and other median is 586)\n",
    "- No continuous variable is strongly correlated with trip duration. \n",
    "- Older people dont take long trips, there is more variation in younger generation. \n",
    "- There are more young riders than older riders."
   ]
  },
  {
   "cell_type": "markdown",
   "metadata": {},
   "source": [
    "Note that the numbered bullets are included in the explanatory analysis. The duplicated numbering indicates that multiple findings are on the same slide. "
   ]
  },
  {
   "cell_type": "code",
   "execution_count": null,
   "metadata": {},
   "outputs": [],
   "source": []
  }
 ],
 "metadata": {
  "kernelspec": {
   "display_name": "Python 3",
   "language": "python",
   "name": "python3"
  },
  "language_info": {
   "codemirror_mode": {
    "name": "ipython",
    "version": 3
   },
   "file_extension": ".py",
   "mimetype": "text/x-python",
   "name": "python",
   "nbconvert_exporter": "python",
   "pygments_lexer": "ipython3",
   "version": "3.7.1"
  }
 },
 "nbformat": 4,
 "nbformat_minor": 2
}
